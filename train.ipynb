{
 "cells": [
  {
   "cell_type": "code",
   "execution_count": 69,
   "metadata": {},
   "outputs": [],
   "source": [
    "import torch\n",
    "import torch.nn as nn\n",
    "import torchaudio\n",
    "from torch.utils.data import Dataset, DataLoader\n",
    "import pandas as pd\n",
    "import numpy as np\n",
    "from emoDB import EmodbDataset\n",
    "from torch.nn.utils.rnn import pad_sequence\n"
   ]
  },
  {
   "cell_type": "code",
   "execution_count": 88,
   "metadata": {},
   "outputs": [],
   "source": [
    "def collate_fn(batch):\n",
    "    waveforms = [item['waveform'] for item in batch]\n",
    "    sample_rates = [item['sample_rate'] for item in batch]\n",
    "    emotions = [item['emotion'] for item in batch]\n",
    "\n",
    "    # Find max length in waveforms\n",
    "    max_length = max([waveform.size(1) for waveform in waveforms])\n",
    "\n",
    "    # Pad all waveforms to max_length\n",
    "    waveforms_padded = []\n",
    "    for waveform in waveforms:\n",
    "        pad_amount = max_length - waveform.size(1)\n",
    "        waveform_padded = torch.nn.functional.pad(waveform, (0, pad_amount))\n",
    "        waveforms_padded.append(waveform_padded)\n",
    "\n",
    "    # Stack everything up\n",
    "    waveforms_padded = torch.stack(waveforms_padded)\n",
    "    sample_rates = torch.stack([torch.tensor(sr) for sr in sample_rates])\n",
    "    emotions = torch.stack([torch.tensor(em) for em in emotions])\n",
    "\n",
    "    # Create attention mask\n",
    "    attention_masks_padded = torch.where(waveforms_padded != 0, 1, 0)\n",
    "\n",
    "    return waveforms_padded, sample_rates, emotions, attention_masks_padded"
   ]
  },
  {
   "cell_type": "code",
   "execution_count": 89,
   "metadata": {},
   "outputs": [
    {
     "name": "stderr",
     "output_type": "stream",
     "text": [
      "c:\\UCLA\\cs260\\realproject\\emoDB.py:35: FutureWarning: Could not cast to float32, falling back to object. This behavior is deprecated. In a future version, when a dtype is passed to 'DataFrame', either all columns will be cast to that dtype, or a TypeError will be raised.\n",
      "  self.df = pd.DataFrame(data, columns=['speaker_id', 'code', 'emotion', 'version', 'file'], dtype=np.float32)\n"
     ]
    }
   ],
   "source": [
    "emoDB = EmodbDataset('./')"
   ]
  },
  {
   "cell_type": "code",
   "execution_count": 95,
   "metadata": {},
   "outputs": [],
   "source": [
    "from torch.utils.data import random_split\n",
    "\n",
    "# Let's say you want to use 80% of the data for training, and 20% for testing\n",
    "train_size = int(0.8 * len(emoDB))\n",
    "test_size = len(emoDB) - train_size\n",
    "\n",
    "train_dataset, test_dataset = random_split(emoDB, [train_size, test_size])\n",
    "\n",
    "BATCH_SIZE = 4\n",
    "train_loader = DataLoader(train_dataset, batch_size=BATCH_SIZE, shuffle=True, collate_fn=collate_fn)\n",
    "test_loader = DataLoader(test_dataset, batch_size=BATCH_SIZE, shuffle=True, collate_fn=collate_fn)"
   ]
  },
  {
   "cell_type": "code",
   "execution_count": 94,
   "metadata": {},
   "outputs": [
    {
     "data": {
      "text/plain": [
       "428"
      ]
     },
     "execution_count": 94,
     "metadata": {},
     "output_type": "execute_result"
    }
   ],
   "source": [
    "len(train_dataset)"
   ]
  }
 ],
 "metadata": {
  "kernelspec": {
   "display_name": "base",
   "language": "python",
   "name": "python3"
  },
  "language_info": {
   "codemirror_mode": {
    "name": "ipython",
    "version": 3
   },
   "file_extension": ".py",
   "mimetype": "text/x-python",
   "name": "python",
   "nbconvert_exporter": "python",
   "pygments_lexer": "ipython3",
   "version": "3.9.12"
  },
  "orig_nbformat": 4
 },
 "nbformat": 4,
 "nbformat_minor": 2
}
